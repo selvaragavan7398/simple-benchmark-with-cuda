{
  "nbformat": 4,
  "nbformat_minor": 0,
  "metadata": {
    "colab": {
      "provenance": []
    },
    "kernelspec": {
      "name": "python3",
      "display_name": "Python 3"
    },
    "language_info": {
      "name": "python"
    }
  },
  "cells": [
    {
      "cell_type": "code",
      "execution_count": 1,
      "metadata": {
        "id": "gzvRmjcMuilq"
      },
      "outputs": [],
      "source": [
        "import tensorflow as tf\n",
        "import numpy as np\n",
        "import matplotlib.pyplot as plt\n",
        "import pandas as pd\n",
        "from tensorflow import keras"
      ]
    },
    {
      "cell_type": "code",
      "source": [
        "(x_train,y_train),(x_test,y_test) = keras.datasets.cifar10.load_data()"
      ],
      "metadata": {
        "id": "poaIDNSCvf-Q",
        "colab": {
          "base_uri": "https://localhost:8080/"
        },
        "outputId": "6820c211-498a-452a-ee86-2b9c6904b5b6"
      },
      "execution_count": 2,
      "outputs": [
        {
          "output_type": "stream",
          "name": "stdout",
          "text": [
            "Downloading data from https://www.cs.toronto.edu/~kriz/cifar-10-python.tar.gz\n",
            "170498071/170498071 [==============================] - 3s 0us/step\n"
          ]
        }
      ]
    },
    {
      "cell_type": "code",
      "source": [
        "def shape(x,y,z,a):\n",
        "  return x.shape,y.shape,z.shape,a.shape"
      ],
      "metadata": {
        "id": "g5YENqKmvnuO"
      },
      "execution_count": 3,
      "outputs": []
    },
    {
      "cell_type": "code",
      "source": [
        "shape(x_train,y_train,x_test,y_test)"
      ],
      "metadata": {
        "colab": {
          "base_uri": "https://localhost:8080/"
        },
        "id": "hKl8oJy_wVVe",
        "outputId": "05dbd4b3-86ea-4d6a-96cb-44c521db18f1"
      },
      "execution_count": 4,
      "outputs": [
        {
          "output_type": "execute_result",
          "data": {
            "text/plain": [
              "((50000, 32, 32, 3), (50000, 1), (10000, 32, 32, 3), (10000, 1))"
            ]
          },
          "metadata": {},
          "execution_count": 4
        }
      ]
    },
    {
      "cell_type": "code",
      "source": [
        "def dimension(a):\n",
        "  a = a.ndim\n",
        "  return a"
      ],
      "metadata": {
        "id": "76PsM2_pws2O"
      },
      "execution_count": 5,
      "outputs": []
    },
    {
      "cell_type": "code",
      "source": [
        "dimension(x_train)"
      ],
      "metadata": {
        "colab": {
          "base_uri": "https://localhost:8080/"
        },
        "id": "2yxL9n9Sw-iu",
        "outputId": "1218b2b5-0305-484d-ce2e-011f8a298e3e"
      },
      "execution_count": 6,
      "outputs": [
        {
          "output_type": "execute_result",
          "data": {
            "text/plain": [
              "4"
            ]
          },
          "metadata": {},
          "execution_count": 6
        }
      ]
    },
    {
      "cell_type": "code",
      "source": [
        "def imgshow(x,n,y):\n",
        "  plt.matshow(x[n])\n",
        "  return y[n]"
      ],
      "metadata": {
        "id": "2LJYN-SCyS3_"
      },
      "execution_count": 7,
      "outputs": []
    },
    {
      "cell_type": "code",
      "source": [
        "imgshow(x_train,0,y_train)"
      ],
      "metadata": {
        "colab": {
          "base_uri": "https://localhost:8080/",
          "height": 454
        },
        "id": "o9dzzwbIzW9f",
        "outputId": "f3b81d5a-1313-4c44-bf0f-eb0cc2ffb94f"
      },
      "execution_count": 8,
      "outputs": [
        {
          "output_type": "execute_result",
          "data": {
            "text/plain": [
              "array([6], dtype=uint8)"
            ]
          },
          "metadata": {},
          "execution_count": 8
        },
        {
          "output_type": "display_data",
          "data": {
            "text/plain": [
              "<Figure size 480x480 with 1 Axes>"
            ],
            "image/png": "[encoded data removed]"
          },
          "metadata": {}
        }
      ]
    },
    {
      "cell_type": "code",
      "source": [
        "def unique(n):\n",
        "  return np.unique(n)"
      ],
      "metadata": {
        "id": "kXBa7aBHzcZ_"
      },
      "execution_count": 9,
      "outputs": []
    },
    {
      "cell_type": "code",
      "source": [
        "x_train_norm = x_train/255\n",
        "x_test_norm = x_test/255"
      ],
      "metadata": {
        "id": "2cvqkXui0Bd-"
      },
      "execution_count": 10,
      "outputs": []
    },
    {
      "cell_type": "code",
      "source": [
        "x_train_flat = x_train_norm.reshape(len(x_train),32*32*3)\n",
        "x_test_flat = x_test_norm.reshape(len(x_test),32*32*3)"
      ],
      "metadata": {
        "id": "EP2L5CyN1axe"
      },
      "execution_count": 11,
      "outputs": []
    },
    {
      "cell_type": "code",
      "source": [
        "model = keras.Sequential([\n",
        "    keras.layers.Dense(100,input_shape = (3072,),activation = 'relu'),\n",
        "    keras.layers.Dense(50 , activation = 'relu'),\n",
        "    keras.layers.Dense(50 , activation = 'relu'),\n",
        "    keras.layers.Dense(10,activation = 'sigmoid')\n",
        "])"
      ],
      "metadata": {
        "id": "LuBQGgXv29Ke"
      },
      "execution_count": 12,
      "outputs": []
    },
    {
      "cell_type": "code",
      "source": [
        "model.compile(optimizer = 'adam',\n",
        "              loss = 'sparse_categorical_crossentropy',\n",
        "              metrics = ['accuracy']\n",
        ")"
      ],
      "metadata": {
        "id": "er0c8Dz43dku"
      },
      "execution_count": 13,
      "outputs": []
    },
    {
      "cell_type": "code",
      "source": [
        "model.fit(x_train_flat,y_train,epochs = 10)"
      ],
      "metadata": {
        "colab": {
          "base_uri": "https://localhost:8080/"
        },
        "id": "_NbmfcSj535P",
        "outputId": "2dc82b21-7657-422b-d0a7-5472d1c162ce"
      },
      "execution_count": 14,
      "outputs": [
        {
          "output_type": "stream",
          "name": "stdout",
          "text": [
            "Epoch 1/10\n",
            "1563/1563 [==============================] - 13s 7ms/step - loss: 1.8740 - accuracy: 0.3196\n",
            "Epoch 2/10\n",
            "1563/1563 [==============================] - 9s 6ms/step - loss: 1.7086 - accuracy: 0.3835\n",
            "Epoch 3/10\n",
            "1563/1563 [==============================] - 10s 6ms/step - loss: 1.6359 - accuracy: 0.4112\n",
            "Epoch 4/10\n",
            "1563/1563 [==============================] - 8s 5ms/step - loss: 1.5874 - accuracy: 0.4278\n",
            "Epoch 5/10\n",
            "1563/1563 [==============================] - 9s 6ms/step - loss: 1.5534 - accuracy: 0.4433\n",
            "Epoch 6/10\n",
            "1563/1563 [==============================] - 9s 6ms/step - loss: 1.5305 - accuracy: 0.4519\n",
            "Epoch 7/10\n",
            "1563/1563 [==============================] - 9s 6ms/step - loss: 1.5149 - accuracy: 0.4574\n",
            "Epoch 8/10\n",
            "1563/1563 [==============================] - 9s 6ms/step - loss: 1.4907 - accuracy: 0.4694\n",
            "Epoch 9/10\n",
            "1563/1563 [==============================] - 10s 6ms/step - loss: 1.4762 - accuracy: 0.4712\n",
            "Epoch 10/10\n",
            "1563/1563 [==============================] - 9s 6ms/step - loss: 1.4604 - accuracy: 0.4767\n"
          ]
        },
        {
          "output_type": "execute_result",
          "data": {
            "text/plain": [
              "<keras.src.callbacks.History at 0x79793918e2c0>"
            ]
          },
          "metadata": {},
          "execution_count": 14
        }
      ]
    },
    {
      "cell_type": "code",
      "source": [
        "model.evaluate(x_train_flat,y_train)"
      ],
      "metadata": {
        "colab": {
          "base_uri": "https://localhost:8080/"
        },
        "id": "mrZmICRB7FJ-",
        "outputId": "8e7ca586-6415-4e95-9780-bf44170f0633"
      },
      "execution_count": 15,
      "outputs": [
        {
          "output_type": "stream",
          "name": "stdout",
          "text": [
            "1563/1563 [==============================] - 9s 5ms/step - loss: 1.4177 - accuracy: 0.4963\n"
          ]
        },
        {
          "output_type": "execute_result",
          "data": {
            "text/plain": [
              "[1.4177132844924927, 0.4962800145149231]"
            ]
          },
          "metadata": {},
          "execution_count": 15
        }
      ]
    },
    {
      "cell_type": "code",
      "source": [
        "pred = model.predict(x_test_flat)"
      ],
      "metadata": {
        "colab": {
          "base_uri": "https://localhost:8080/"
        },
        "id": "n7XQxAip8WzP",
        "outputId": "cfd03a3c-14f7-43d7-c68c-653447b7865e"
      },
      "execution_count": 29,
      "outputs": [
        {
          "output_type": "stream",
          "name": "stdout",
          "text": [
            "313/313 [==============================] - 2s 5ms/step\n"
          ]
        },
        {
          "output_type": "execute_result",
          "data": {
            "text/plain": [
              "array([3], dtype=uint8)"
            ]
          },
          "metadata": {},
          "execution_count": 29
        }
      ]
    },
    {
      "cell_type": "code",
      "source": [],
      "metadata": {
        "id": "GsRi-SNRi_pW"
      },
      "execution_count": null,
      "outputs": []
    },
    {
      "cell_type": "code",
      "source": [
        "np.argmax(pred[7])"
      ],
      "metadata": {
        "colab": {
          "base_uri": "https://localhost:8080/"
        },
        "id": "Fh8P2QEKB5oQ",
        "outputId": "5978c1fe-15d2-4a09-a548-8f69216642b0"
      },
      "execution_count": 17,
      "outputs": [
        {
          "output_type": "execute_result",
          "data": {
            "text/plain": [
              "6"
            ]
          },
          "metadata": {},
          "execution_count": 17
        }
      ]
    },
    {
      "cell_type": "code",
      "source": [
        "imgshow(x_test,7,y_test)"
      ],
      "metadata": {
        "colab": {
          "base_uri": "https://localhost:8080/",
          "height": 454
        },
        "id": "EwBvrGpdCAuA",
        "outputId": "a02dc9c3-fd31-49d0-ad78-1a83a11271c8"
      },
      "execution_count": 18,
      "outputs": [
        {
          "output_type": "execute_result",
          "data": {
            "text/plain": [
              "array([6], dtype=uint8)"
            ]
          },
          "metadata": {},
          "execution_count": 18
        },
        {
          "output_type": "display_data",
          "data": {
            "text/plain": [
              "<Figure size 480x480 with 1 Axes>"
            ],
            "image/png": "[encoded data removed]"
          },
          "metadata": {}
        }
      ]
    },
    {
      "cell_type": "code",
      "source": [
        "imgshow(x_test,100,y_test)"
      ],
      "metadata": {
        "colab": {
          "base_uri": "https://localhost:8080/",
          "height": 454
        },
        "id": "SWb2DB1VCLAf",
        "outputId": "14146c2b-c437-4163-95ee-c929cf9c3d88"
      },
      "execution_count": 22,
      "outputs": [
        {
          "output_type": "execute_result",
          "data": {
            "text/plain": [
              "array([4], dtype=uint8)"
            ]
          },
          "metadata": {},
          "execution_count": 22
        },
        {
          "output_type": "display_data",
          "data": {
            "text/plain": [
              "<Figure size 480x480 with 1 Axes>"
            ],
            "image/png": "[encoded data removed]"
          },
          "metadata": {}
        }
      ]
    },
    {
      "cell_type": "code",
      "source": [
        "tf.config.experimental.list_physical_devices()"
      ],
      "metadata": {
        "id": "d3jHwl7oCqlQ",
        "colab": {
          "base_uri": "https://localhost:8080/"
        },
        "outputId": "93aba2dc-dbc4-4531-9115-be03b622da7f"
      },
      "execution_count": 23,
      "outputs": [
        {
          "output_type": "execute_result",
          "data": {
            "text/plain": [
              "[PhysicalDevice(name='/physical_device:CPU:0', device_type='CPU')]"
            ]
          },
          "metadata": {},
          "execution_count": 23
        }
      ]
    },
    {
      "cell_type": "code",
      "source": [
        "tf.test.is_built_with_cuda()"
      ],
      "metadata": {
        "colab": {
          "base_uri": "https://localhost:8080/"
        },
        "id": "NyOLlmpQiai9",
        "outputId": "2c5b77f8-5d5b-414b-85f3-860af053f673"
      },
      "execution_count": 25,
      "outputs": [
        {
          "output_type": "execute_result",
          "data": {
            "text/plain": [
              "True"
            ]
          },
          "metadata": {},
          "execution_count": 25
        }
      ]
    },
    {
      "cell_type": "code",
      "source": [
        "def get_model():\n",
        "  model = keras.Sequential([\n",
        "    keras.layers.Dense(100,input_shape = (3072,),activation = 'relu'),\n",
        "    keras.layers.Dense(50 , activation = 'relu'),\n",
        "    keras.layers.Dense(50 , activation = 'relu'),\n",
        "    keras.layers.Dense(10,activation = 'sigmoid')\n",
        "])\n",
        "  model.compile(optimizer = 'adam',\n",
        "              loss = 'sparse_categorical_crossentropy',\n",
        "              metrics = ['accuracy']\n",
        ")\n",
        "  return model"
      ],
      "metadata": {
        "id": "nQ3q40prizjD"
      },
      "execution_count": 30,
      "outputs": []
    },
    {
      "cell_type": "code",
      "source": [
        "%%timeit -n1 -r1\n",
        "with tf.device('/cpu:0'):\n",
        "  cpu_model = get_model()\n",
        "  cpu_model.fit(x_train_flat,y_train,epochs = 1)"
      ],
      "metadata": {
        "colab": {
          "base_uri": "https://localhost:8080/"
        },
        "id": "x7PLTNZvj1KN",
        "outputId": "7762cac0-c3d0-45ca-c2bc-2e21731bc9cd"
      },
      "execution_count": 33,
      "outputs": [
        {
          "output_type": "stream",
          "name": "stdout",
          "text": [
            "1563/1563 [==============================] - 11s 6ms/step - loss: 1.8818 - accuracy: 0.3193\n",
            "13.6 s ± 0 ns per loop (mean ± std. dev. of 1 run, 1 loop each)\n"
          ]
        }
      ]
    },
    {
      "cell_type": "code",
      "source": [
        "%%timeit -n1 -r1\n",
        "with tf.device('/gpu:0'):\n",
        "  gpu_model = get_model()\n",
        "  gpu_model.fit(x_train_flat,y_train,epochs = 1)"
      ],
      "metadata": {
        "colab": {
          "base_uri": "https://localhost:8080/"
        },
        "id": "qiMqLZDqj7gc",
        "outputId": "b099c202-e8d3-4d2c-9d03-99b15aea1347"
      },
      "execution_count": 35,
      "outputs": [
        {
          "output_type": "stream",
          "name": "stdout",
          "text": [
            "1563/1563 [==============================] - 10s 6ms/step - loss: 1.8806 - accuracy: 0.3161\n",
            "11.5 s ± 0 ns per loop (mean ± std. dev. of 1 run, 1 loop each)\n"
          ]
        }
      ]
    },
    {
      "cell_type": "code",
      "source": [],
      "metadata": {
        "id": "W5Eo8kJ5lSYt"
      },
      "execution_count": null,
      "outputs": []
    }
  ]
}